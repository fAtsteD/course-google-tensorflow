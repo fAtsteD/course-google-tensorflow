{
 "cells": [
  {
   "cell_type": "markdown",
   "metadata": {},
   "source": [
    "<a href=\"https://colab.research.google.com/github/https-deeplearning-ai/tensorflow-1-public/blob/master/C3/W3/ungraded_labs/C3_W3_Lab_5_sarcasm_with_bi_LSTM.ipynb\" target=\"_parent\"><img src=\"https://colab.research.google.com/assets/colab-badge.svg\" alt=\"Open In Colab\"/></a>"
   ]
  },
  {
   "cell_type": "markdown",
   "metadata": {
    "id": "Q2MY4-M1zuhV"
   },
   "source": [
    "# Ungraded Lab: Training a Sarcasm Detection Model using Bidirectional LSTMs\n",
    "\n",
    "In this lab, you will revisit the [News Headlines Dataset for Sarcasm Detection](https://www.kaggle.com/rmisra/news-headlines-dataset-for-sarcasm-detection/home) dataset and use it to train a Bi-LSTM Model.\n"
   ]
  },
  {
   "cell_type": "markdown",
   "metadata": {
    "id": "S-AgItE6z80t"
   },
   "source": [
    "## Download the Dataset\n",
    "\n",
    "First, you will download the JSON file and extract the contents into lists."
   ]
  },
  {
   "cell_type": "code",
   "execution_count": 1,
   "metadata": {
    "id": "k_Wlz9i10Dmn"
   },
   "outputs": [
    {
     "name": "stderr",
     "output_type": "stream",
     "text": [
      "--2023-07-15 16:16:53--  https://storage.googleapis.com/tensorflow-1-public/course3/sarcasm.json\n",
      "Resolving storage.googleapis.com (storage.googleapis.com)... 216.58.208.208, 142.250.186.208, 142.250.203.144, ...\n",
      "Connecting to storage.googleapis.com (storage.googleapis.com)|216.58.208.208|:443... connected.\n",
      "HTTP request sent, awaiting response... 200 OK\n",
      "Length: 5643545 (5,4M) [application/json]\n",
      "Saving to: './data/sarcasm.json'\n",
      "\n",
      "     0K .......... .......... .......... .......... ..........  0% 1,07M 5s\n",
      "    50K .......... .......... .......... .......... ..........  1% 1,65M 4s\n",
      "   100K .......... .......... .......... .......... ..........  2% 3,75M 3s\n",
      "   150K .......... .......... .......... .......... ..........  3% 4,11M 3s\n",
      "   200K .......... .......... .......... .......... ..........  4% 5,97M 2s\n",
      "   250K .......... .......... .......... .......... ..........  5% 6,80M 2s\n",
      "   300K .......... .......... .......... .......... ..........  6% 7,03M 2s\n",
      "   350K .......... .......... .......... .......... ..........  7% 7,81M 2s\n",
      "   400K .......... .......... .......... .......... ..........  8% 22,1M 1s\n",
      "   450K .......... .......... .......... .......... ..........  9% 8,56M 1s\n",
      "   500K .......... .......... .......... .......... ..........  9% 15,4M 1s\n",
      "   550K .......... .......... .......... .......... .......... 10% 11,6M 1s\n",
      "   600K .......... .......... .......... .......... .......... 11% 10,5M 1s\n",
      "   650K .......... .......... .......... .......... .......... 12%  692K 2s\n",
      "   700K .......... .......... .......... .......... .......... 13% 15,1M 1s\n",
      "   750K .......... .......... .......... .......... .......... 14% 59,1M 1s\n",
      "   800K .......... .......... .......... .......... .......... 15% 60,5M 1s\n",
      "   850K .......... .......... .......... .......... .......... 16% 71,1M 1s\n",
      "   900K .......... .......... .......... .......... .......... 17% 47,7M 1s\n",
      "   950K .......... .......... .......... .......... .......... 18% 72,6M 1s\n",
      "  1000K .......... .......... .......... .......... .......... 19% 5,29M 1s\n",
      "  1050K .......... .......... .......... .......... .......... 19% 16,3M 1s\n",
      "  1100K .......... .......... .......... .......... .......... 20%  271M 1s\n",
      "  1150K .......... .......... .......... .......... .......... 21%  269M 1s\n",
      "  1200K .......... .......... .......... .......... .......... 22%  223M 1s\n",
      "  1250K .......... .......... .......... .......... .......... 23%  345M 1s\n",
      "  1300K .......... .......... .......... .......... .......... 24%  350M 1s\n",
      "  1350K .......... .......... .......... .......... .......... 25%  475M 1s\n",
      "  1400K .......... .......... .......... .......... .......... 26%  365M 1s\n",
      "  1450K .......... .......... .......... .......... .......... 27% 27,0M 1s\n",
      "  1500K .......... .......... .......... .......... .......... 28%  296M 1s\n",
      "  1550K .......... .......... .......... .......... .......... 29% 10,4M 1s\n",
      "  1600K .......... .......... .......... .......... .......... 29% 18,2M 1s\n",
      "  1650K .......... .......... .......... .......... .......... 30% 15,4M 1s\n",
      "  1700K .......... .......... .......... .......... .......... 31% 4,90M 1s\n",
      "  1750K .......... .......... .......... .......... .......... 32% 10,0M 1s\n",
      "  1800K .......... .......... .......... .......... .......... 33% 13,9M 1s\n",
      "  1850K .......... .......... .......... .......... .......... 34% 8,94M 1s\n",
      "  1900K .......... .......... .......... .......... .......... 35% 15,2M 1s\n",
      "  1950K .......... .......... .......... .......... .......... 36% 5,86M 1s\n",
      "  2000K .......... .......... .......... .......... .......... 37% 7,08M 1s\n",
      "  2050K .......... .......... .......... .......... .......... 38% 14,5M 0s\n",
      "  2100K .......... .......... .......... .......... .......... 39% 15,1M 0s\n",
      "  2150K .......... .......... .......... .......... .......... 39% 9,54M 0s\n",
      "  2200K .......... .......... .......... .......... .......... 40% 5,18M 0s\n",
      "  2250K .......... .......... .......... .......... .......... 41% 9,31M 0s\n",
      "  2300K .......... .......... .......... .......... .......... 42% 11,6M 0s\n",
      "  2350K .......... .......... .......... .......... .......... 43% 9,24M 0s\n",
      "  2400K .......... .......... .......... .......... .......... 44% 9,85M 0s\n",
      "  2450K .......... .......... .......... .......... .......... 45% 7,33M 0s\n",
      "  2500K .......... .......... .......... .......... .......... 46% 6,88M 0s\n",
      "  2550K .......... .......... .......... .......... .......... 47% 13,3M 0s\n",
      "  2600K .......... .......... .......... .......... .......... 48% 7,82M 0s\n",
      "  2650K .......... .......... .......... .......... .......... 48% 15,8M 0s\n",
      "  2700K .......... .......... .......... .......... .......... 49% 8,23M 0s\n",
      "  2750K .......... .......... .......... .......... .......... 50% 7,48M 0s\n",
      "  2800K .......... .......... .......... .......... .......... 51% 8,11M 0s\n",
      "  2850K .......... .......... .......... .......... .......... 52% 12,8M 0s\n",
      "  2900K .......... .......... .......... .......... .......... 53% 7,32M 0s\n",
      "  2950K .......... .......... .......... .......... .......... 54% 14,2M 0s\n",
      "  3000K .......... .......... .......... .......... .......... 55% 6,60M 0s\n",
      "  3050K .......... .......... .......... .......... .......... 56% 12,4M 0s\n",
      "  3100K .......... .......... .......... .......... .......... 57% 8,48M 0s\n",
      "  3150K .......... .......... .......... .......... .......... 58% 8,48M 0s\n",
      "  3200K .......... .......... .......... .......... .......... 58% 10,2M 0s\n",
      "  3250K .......... .......... .......... .......... .......... 59% 7,29M 0s\n",
      "  3300K .......... .......... .......... .......... .......... 60% 9,24M 0s\n",
      "  3350K .......... .......... .......... .......... .......... 61% 15,5M 0s\n",
      "  3400K .......... .......... .......... .......... .......... 62% 7,72M 0s\n",
      "  3450K .......... .......... .......... .......... .......... 63% 12,2M 0s\n",
      "  3500K .......... .......... .......... .......... .......... 64% 5,91M 0s\n",
      "  3550K .......... .......... .......... .......... .......... 65% 10,2M 0s\n",
      "  3600K .......... .......... .......... .......... .......... 66% 9,58M 0s\n",
      "  3650K .......... .......... .......... .......... .......... 67% 8,55M 0s\n",
      "  3700K .......... .......... .......... .......... .......... 68% 8,66M 0s\n",
      "  3750K .......... .......... .......... .......... .......... 68% 6,91M 0s\n",
      "  3800K .......... .......... .......... .......... .......... 69% 14,4M 0s\n",
      "  3850K .......... .......... .......... .......... .......... 70% 10,1M 0s\n",
      "  3900K .......... .......... .......... .......... .......... 71% 12,5M 0s\n",
      "  3950K .......... .......... .......... .......... .......... 72% 10,7M 0s\n",
      "  4000K .......... .......... .......... .......... .......... 73% 4,36M 0s\n",
      "  4050K .......... .......... .......... .......... .......... 74% 20,8M 0s\n",
      "  4100K .......... .......... .......... .......... .......... 75% 7,10M 0s\n",
      "  4150K .......... .......... .......... .......... .......... 76% 10,4M 0s\n",
      "  4200K .......... .......... .......... .......... .......... 77% 12,9M 0s\n",
      "  4250K .......... .......... .......... .......... .......... 78% 7,06M 0s\n",
      "  4300K .......... .......... .......... .......... .......... 78% 6,69M 0s\n",
      "  4350K .......... .......... .......... .......... .......... 79% 27,4M 0s\n",
      "  4400K .......... .......... .......... .......... .......... 80% 7,47M 0s\n",
      "  4450K .......... .......... .......... .......... .......... 81% 5,21M 0s\n",
      "  4500K .......... .......... .......... .......... .......... 82% 12,9M 0s\n",
      "  4550K .......... .......... .......... .......... .......... 83% 9,02M 0s\n",
      "  4600K .......... .......... .......... .......... .......... 84% 13,4M 0s\n",
      "  4650K .......... .......... .......... .......... .......... 85% 10,6M 0s\n",
      "  4700K .......... .......... .......... .......... .......... 86% 6,25M 0s\n",
      "  4750K .......... .......... .......... .......... .......... 87% 12,2M 0s\n",
      "  4800K .......... .......... .......... .......... .......... 88% 8,07M 0s\n",
      "  4850K .......... .......... .......... .......... .......... 88% 11,2M 0s\n",
      "  4900K .......... .......... .......... .......... .......... 89% 12,0M 0s\n",
      "  4950K .......... .......... .......... .......... .......... 90% 6,12M 0s\n",
      "  5000K .......... .......... .......... .......... .......... 91% 10,7M 0s\n",
      "  5050K .......... .......... .......... .......... .......... 92% 11,1M 0s\n",
      "  5100K .......... .......... .......... .......... .......... 93% 9,56M 0s\n",
      "  5150K .......... .......... .......... .......... .......... 94% 11,8M 0s\n",
      "  5200K .......... .......... .......... .......... .......... 95% 5,64M 0s\n",
      "  5250K .......... .......... .......... .......... .......... 96% 7,71M 0s\n",
      "  5300K .......... .......... .......... .......... .......... 97% 13,1M 0s\n",
      "  5350K .......... .......... .......... .......... .......... 97% 9,89M 0s\n",
      "  5400K .......... .......... .......... .......... .......... 98% 11,2M 0s\n",
      "  5450K .......... .......... .......... .......... .......... 99% 7,68M 0s\n",
      "  5500K .......... .                                          100% 7,07M=0,7s\n",
      "\n",
      "2023-07-15 16:16:54 (8,04 MB/s) - './data/sarcasm.json' saved [5643545/5643545]\n",
      "\n"
     ]
    }
   ],
   "source": [
    "# Download the dataset\n",
    "!wget -P ./data https://storage.googleapis.com/tensorflow-1-public/course3/sarcasm.json"
   ]
  },
  {
   "cell_type": "code",
   "execution_count": 2,
   "metadata": {
    "id": "Pr4R0I240GOh"
   },
   "outputs": [],
   "source": [
    "import json\n",
    "\n",
    "# Load the JSON file\n",
    "with open(\"./data/sarcasm.json\", 'r') as f:\n",
    "    datastore = json.load(f)\n",
    "\n",
    "# Initialize the lists\n",
    "sentences = []\n",
    "labels = []\n",
    "\n",
    "# Collect sentences and labels into the lists\n",
    "for item in datastore:\n",
    "    sentences.append(item['headline'])\n",
    "    labels.append(item['is_sarcastic'])"
   ]
  },
  {
   "cell_type": "markdown",
   "metadata": {
    "id": "zN9-ojV55UCR"
   },
   "source": [
    "## Split the Dataset\n",
    "\n",
    "You will then split the lists into train and test sets."
   ]
  },
  {
   "cell_type": "code",
   "execution_count": 3,
   "metadata": {
    "id": "50H0ZrJf035i"
   },
   "outputs": [],
   "source": [
    "training_size = 20000\n",
    "\n",
    "# Split the sentences\n",
    "training_sentences = sentences[0:training_size]\n",
    "testing_sentences = sentences[training_size:]\n",
    "\n",
    "# Split the labels\n",
    "training_labels = labels[0:training_size]\n",
    "testing_labels = labels[training_size:]"
   ]
  },
  {
   "cell_type": "markdown",
   "metadata": {
    "id": "MYVNY4tE5YbN"
   },
   "source": [
    "## Data preprocessing\n",
    "\n",
    "Next, you will generate the vocabulary and padded sequences."
   ]
  },
  {
   "cell_type": "code",
   "execution_count": 4,
   "metadata": {
    "id": "hodsUZib1Ce7"
   },
   "outputs": [],
   "source": [
    "import numpy as np\n",
    "from tensorflow.keras.preprocessing.text import Tokenizer\n",
    "from tensorflow.keras.preprocessing.sequence import pad_sequences\n",
    "\n",
    "vocab_size = 10000\n",
    "max_length = 120\n",
    "trunc_type = 'post'\n",
    "padding_type = 'post'\n",
    "oov_tok = \"<OOV>\"\n",
    "\n",
    "# Initialize the Tokenizer class\n",
    "tokenizer = Tokenizer(num_words=vocab_size, oov_token=oov_tok)\n",
    "\n",
    "# Generate the word index dictionary\n",
    "tokenizer.fit_on_texts(training_sentences)\n",
    "word_index = tokenizer.word_index\n",
    "\n",
    "# Generate and pad the training sequences\n",
    "training_sequences = tokenizer.texts_to_sequences(training_sentences)\n",
    "training_padded = pad_sequences(\n",
    "    training_sequences, maxlen=max_length, padding=padding_type, truncating=trunc_type)\n",
    "\n",
    "# Generate and pad the testing sequences\n",
    "testing_sequences = tokenizer.texts_to_sequences(testing_sentences)\n",
    "testing_padded = pad_sequences(\n",
    "    testing_sequences, maxlen=max_length, padding=padding_type, truncating=trunc_type)\n",
    "\n",
    "# Convert the labels lists into numpy arrays\n",
    "training_labels = np.array(training_labels)\n",
    "testing_labels = np.array(testing_labels)"
   ]
  },
  {
   "cell_type": "markdown",
   "metadata": {
    "id": "o23gJhj95el5"
   },
   "source": [
    "## Build and Compile the Model\n",
    "\n",
    "The architecture here is almost identical to the one you used in the previous lab with the IMDB Reviews. Try to tweak the parameters and see how it affects the training time and accuracy (both training and validation)."
   ]
  },
  {
   "cell_type": "code",
   "execution_count": 5,
   "metadata": {
    "id": "jGwXGIXvFhXW"
   },
   "outputs": [
    {
     "name": "stdout",
     "output_type": "stream",
     "text": [
      "Model: \"sequential\"\n",
      "_________________________________________________________________\n",
      " Layer (type)                Output Shape              Param #   \n",
      "=================================================================\n",
      " embedding (Embedding)       (None, 120, 16)           160000    \n",
      "                                                                 \n",
      " bidirectional (Bidirection  (None, 64)                12544     \n",
      " al)                                                             \n",
      "                                                                 \n",
      " dense (Dense)               (None, 24)                1560      \n",
      "                                                                 \n",
      " dense_1 (Dense)             (None, 1)                 25        \n",
      "                                                                 \n",
      "=================================================================\n",
      "Total params: 174129 (680.19 KB)\n",
      "Trainable params: 174129 (680.19 KB)\n",
      "Non-trainable params: 0 (0.00 Byte)\n",
      "_________________________________________________________________\n"
     ]
    }
   ],
   "source": [
    "import tensorflow as tf\n",
    "\n",
    "# Parameters\n",
    "embedding_dim = 16\n",
    "lstm_dim = 32\n",
    "dense_dim = 24\n",
    "\n",
    "# Model Definition with LSTM\n",
    "model_lstm = tf.keras.Sequential([\n",
    "    tf.keras.layers.Embedding(\n",
    "        vocab_size, embedding_dim, input_length=max_length),\n",
    "    tf.keras.layers.Bidirectional(tf.keras.layers.LSTM(lstm_dim)),\n",
    "    tf.keras.layers.Dense(dense_dim, activation='relu'),\n",
    "    tf.keras.layers.Dense(1, activation='sigmoid')\n",
    "])\n",
    "\n",
    "# Set the training parameters\n",
    "model_lstm.compile(loss='binary_crossentropy',\n",
    "                   optimizer='adam', metrics=['accuracy'])\n",
    "\n",
    "# Print the model summary\n",
    "model_lstm.summary()"
   ]
  },
  {
   "cell_type": "markdown",
   "metadata": {
    "id": "krcQGm7B5g9A"
   },
   "source": [
    "## Train the Model"
   ]
  },
  {
   "cell_type": "code",
   "execution_count": 6,
   "metadata": {
    "colab": {
     "background_save": true
    },
    "id": "nEKV8EMj11BW"
   },
   "outputs": [
    {
     "name": "stdout",
     "output_type": "stream",
     "text": [
      "Epoch 1/10\n",
      "625/625 [==============================] - 14s 20ms/step - loss: 0.4145 - accuracy: 0.7980 - val_loss: 0.3378 - val_accuracy: 0.8502\n",
      "Epoch 2/10\n",
      "625/625 [==============================] - 13s 21ms/step - loss: 0.2207 - accuracy: 0.9092 - val_loss: 0.3456 - val_accuracy: 0.8535\n",
      "Epoch 3/10\n",
      "625/625 [==============================] - 12s 19ms/step - loss: 0.1502 - accuracy: 0.9409 - val_loss: 0.4189 - val_accuracy: 0.8498\n",
      "Epoch 4/10\n",
      "625/625 [==============================] - 11s 18ms/step - loss: 0.0969 - accuracy: 0.9658 - val_loss: 0.4890 - val_accuracy: 0.8462\n",
      "Epoch 5/10\n",
      "625/625 [==============================] - 12s 19ms/step - loss: 0.0605 - accuracy: 0.9790 - val_loss: 0.5698 - val_accuracy: 0.8423\n",
      "Epoch 6/10\n",
      "625/625 [==============================] - 12s 19ms/step - loss: 0.0383 - accuracy: 0.9872 - val_loss: 0.6616 - val_accuracy: 0.8350\n",
      "Epoch 7/10\n",
      "625/625 [==============================] - 14s 23ms/step - loss: 0.0238 - accuracy: 0.9926 - val_loss: 0.8456 - val_accuracy: 0.8310\n",
      "Epoch 8/10\n",
      "625/625 [==============================] - 14s 23ms/step - loss: 0.0190 - accuracy: 0.9941 - val_loss: 0.9094 - val_accuracy: 0.8332\n",
      "Epoch 9/10\n",
      "625/625 [==============================] - 14s 22ms/step - loss: 0.0131 - accuracy: 0.9958 - val_loss: 1.0154 - val_accuracy: 0.8314\n",
      "Epoch 10/10\n",
      "625/625 [==============================] - 14s 22ms/step - loss: 0.0103 - accuracy: 0.9966 - val_loss: 1.0183 - val_accuracy: 0.8307\n"
     ]
    }
   ],
   "source": [
    "NUM_EPOCHS = 10\n",
    "\n",
    "# Train the model\n",
    "history_lstm = model_lstm.fit(training_padded, training_labels,\n",
    "                              epochs=NUM_EPOCHS, validation_data=(testing_padded, testing_labels))"
   ]
  },
  {
   "cell_type": "code",
   "execution_count": 7,
   "metadata": {
    "id": "g9DC6dmLF8DC"
   },
   "outputs": [
    {
     "data": {
      "image/png": "[encoded data removed]",
      "text/plain": [
       "<Figure size 640x480 with 1 Axes>"
      ]
     },
     "metadata": {},
     "output_type": "display_data"
    },
    {
     "data": {
      "image/png": "[encoded data removed]",
      "text/plain": [
       "<Figure size 640x480 with 1 Axes>"
      ]
     },
     "metadata": {},
     "output_type": "display_data"
    }
   ],
   "source": [
    "import matplotlib.pyplot as plt\n",
    "\n",
    "# Plot Utility\n",
    "\n",
    "\n",
    "def plot_graphs(history, string):\n",
    "    plt.plot(history.history[string])\n",
    "    plt.plot(history.history['val_'+string])\n",
    "    plt.xlabel(\"Epochs\")\n",
    "    plt.ylabel(string)\n",
    "    plt.legend([string, 'val_'+string])\n",
    "    plt.show()\n",
    "\n",
    "\n",
    "# Plot the accuracy and loss history\n",
    "plot_graphs(history_lstm, 'accuracy')\n",
    "plot_graphs(history_lstm, 'loss')"
   ]
  }
 ],
 "metadata": {
  "accelerator": "GPU",
  "colab": {
   "collapsed_sections": [],
   "name": "C3_W3_Lab_5_sarcasm_with_bi_LSTM.ipynb",
   "private_outputs": true,
   "provenance": []
  },
  "kernelspec": {
   "display_name": "Python 3",
   "language": "python",
   "name": "python3"
  },
  "language_info": {
   "codemirror_mode": {
    "name": "ipython",
    "version": 3
   },
   "file_extension": ".py",
   "mimetype": "text/x-python",
   "name": "python",
   "nbconvert_exporter": "python",
   "pygments_lexer": "ipython3",
   "version": "3.10.11"
  }
 },
 "nbformat": 4,
 "nbformat_minor": 1
}
