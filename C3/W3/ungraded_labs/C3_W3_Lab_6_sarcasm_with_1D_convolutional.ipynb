{
 "cells": [
  {
   "cell_type": "markdown",
   "metadata": {},
   "source": [
    "<a href=\"https://colab.research.google.com/github/https-deeplearning-ai/tensorflow-1-public/blob/master/C3/W3/ungraded_labs/C3_W3_Lab_6_sarcasm_with_1D_convolutional.ipynb\" target=\"_parent\"><img src=\"https://colab.research.google.com/assets/colab-badge.svg\" alt=\"Open In Colab\"/></a>"
   ]
  },
  {
   "cell_type": "markdown",
   "metadata": {
    "id": "YEdilk144fzb"
   },
   "source": [
    "# Ungraded Lab: Training a Sarcasm Detection Model using a Convolution Layer\n",
    "\n",
    "You will be doing the same steps here as the previous lab but will be using a convolution layer instead. As usual, try tweaking the parameters and observe how it affects the results. \n"
   ]
  },
  {
   "cell_type": "markdown",
   "metadata": {
    "id": "pmokcpHc5u1R"
   },
   "source": [
    "## Download the Dataset"
   ]
  },
  {
   "cell_type": "code",
   "execution_count": 1,
   "metadata": {
    "id": "dxezdGoV29Yz"
   },
   "outputs": [
    {
     "name": "stderr",
     "output_type": "stream",
     "text": [
      "--2023-07-15 16:20:27--  https://storage.googleapis.com/tensorflow-1-public/course3/sarcasm.json\n",
      "Resolving storage.googleapis.com (storage.googleapis.com)... 216.58.208.208, 142.250.186.208, 142.250.203.144, ...\n",
      "Connecting to storage.googleapis.com (storage.googleapis.com)|216.58.208.208|:443... connected.\n",
      "HTTP request sent, awaiting response... 200 OK\n",
      "Length: 5643545 (5,4M) [application/json]\n",
      "Saving to: './data/sarcasm.json.1'\n",
      "\n",
      "     0K .......... .......... .......... .......... ..........  0% 1,06M 5s\n",
      "    50K .......... .......... .......... .......... ..........  1% 1,76M 4s\n",
      "   100K .......... .......... .......... .......... ..........  2% 3,57M 3s\n",
      "   150K .......... .......... .......... .......... ..........  3% 4,39M 3s\n",
      "   200K .......... .......... .......... .......... ..........  4% 5,44M 2s\n",
      "   250K .......... .......... .......... .......... ..........  5% 6,44M 2s\n",
      "   300K .......... .......... .......... .......... ..........  6% 8,41M 2s\n",
      "   350K .......... .......... .......... .......... ..........  7% 9,56M 2s\n",
      "   400K .......... .......... .......... .......... ..........  8% 12,8M 1s\n",
      "   450K .......... .......... .......... .......... ..........  9% 8,97M 1s\n",
      "   500K .......... .......... .......... .......... ..........  9% 8,28M 1s\n",
      "   550K .......... .......... .......... .......... .......... 10% 8,13M 1s\n",
      "   600K .......... .......... .......... .......... .......... 11% 9,15M 1s\n",
      "   650K .......... .......... .......... .......... .......... 12% 13,0M 1s\n",
      "   700K .......... .......... .......... .......... .......... 13% 1,56M 1s\n",
      "   750K .......... .......... .......... .......... .......... 14% 16,2M 1s\n",
      "   800K .......... .......... .......... .......... .......... 15% 19,5M 1s\n",
      "   850K .......... .......... .......... .......... .......... 16% 1,64M 1s\n",
      "   900K .......... .......... .......... .......... .......... 17%  119M 1s\n",
      "   950K .......... .......... .......... .......... .......... 18% 65,1M 1s\n",
      "  1000K .......... .......... .......... .......... .......... 19%  178M 1s\n",
      "  1050K .......... .......... .......... .......... .......... 19%  502M 1s\n",
      "  1100K .......... .......... .......... .......... .......... 20%  337M 1s\n",
      "  1150K .......... .......... .......... .......... .......... 21%  436M 1s\n",
      "  1200K .......... .......... .......... .......... .......... 22%  462M 1s\n",
      "  1250K .......... .......... .......... .......... .......... 23%  450M 1s\n",
      "  1300K .......... .......... .......... .......... .......... 24% 2,19M 1s\n",
      "  1350K .......... .......... .......... .......... .......... 25% 9,95M 1s\n",
      "  1400K .......... .......... .......... .......... .......... 26% 1,01M 1s\n",
      "  1450K .......... .......... .......... .......... .......... 27%  308M 1s\n",
      "  1500K .......... .......... .......... .......... .......... 28%  179M 1s\n",
      "  1550K .......... .......... .......... .......... .......... 29% 6,19M 1s\n",
      "  1600K .......... .......... .......... .......... .......... 29% 5,15M 1s\n",
      "  1650K .......... .......... .......... .......... .......... 30% 9,72M 1s\n",
      "  1700K .......... .......... .......... .......... .......... 31%  231M 1s\n",
      "  1750K .......... .......... .......... .......... .......... 32%  314M 1s\n",
      "  1800K .......... .......... .......... .......... .......... 33%  208M 1s\n",
      "  1850K .......... .......... .......... .......... .......... 34%  278M 1s\n",
      "  1900K .......... .......... .......... .......... .......... 35% 39,6M 1s\n",
      "  1950K .......... .......... .......... .......... .......... 36% 17,0M 1s\n",
      "  2000K .......... .......... .......... .......... .......... 37% 12,7M 1s\n",
      "  2050K .......... .......... .......... .......... .......... 38% 26,3M 1s\n",
      "  2100K .......... .......... .......... .......... .......... 39% 26,7M 1s\n",
      "  2150K .......... .......... .......... .......... .......... 39% 12,8M 1s\n",
      "  2200K .......... .......... .......... .......... .......... 40% 17,3M 0s\n",
      "  2250K .......... .......... .......... .......... .......... 41% 34,2M 0s\n",
      "  2300K .......... .......... .......... .......... .......... 42% 7,10M 0s\n",
      "  2350K .......... .......... .......... .......... .......... 43% 21,2M 0s\n",
      "  2400K .......... .......... .......... .......... .......... 44% 6,35M 0s\n",
      "  2450K .......... .......... .......... .......... .......... 45% 8,82M 0s\n",
      "  2500K .......... .......... .......... .......... .......... 46% 11,7M 0s\n",
      "  2550K .......... .......... .......... .......... .......... 47% 7,25M 0s\n",
      "  2600K .......... .......... .......... .......... .......... 48% 10,5M 0s\n",
      "  2650K .......... .......... .......... .......... .......... 48% 9,83M 0s\n",
      "  2700K .......... .......... .......... .......... .......... 49% 9,93M 0s\n",
      "  2750K .......... .......... .......... .......... .......... 50% 5,13M 0s\n",
      "  2800K .......... .......... .......... .......... .......... 51% 15,1M 0s\n",
      "  2850K .......... .......... .......... .......... .......... 52% 9,34M 0s\n",
      "  2900K .......... .......... .......... .......... .......... 53% 9,85M 0s\n",
      "  2950K .......... .......... .......... .......... .......... 54% 6,22M 0s\n",
      "  3000K .......... .......... .......... .......... .......... 55% 12,8M 0s\n",
      "  3050K .......... .......... .......... .......... .......... 56% 11,2M 0s\n",
      "  3100K .......... .......... .......... .......... .......... 57% 7,72M 0s\n",
      "  3150K .......... .......... .......... .......... .......... 58% 9,42M 0s\n",
      "  3200K .......... .......... .......... .......... .......... 58% 7,61M 0s\n",
      "  3250K .......... .......... .......... .......... .......... 59% 9,44M 0s\n",
      "  3300K .......... .......... .......... .......... .......... 60% 8,53M 0s\n",
      "  3350K .......... .......... .......... .......... .......... 61% 8,37M 0s\n",
      "  3400K .......... .......... .......... .......... .......... 62% 9,37M 0s\n",
      "  3450K .......... .......... .......... .......... .......... 63% 11,0M 0s\n",
      "  3500K .......... .......... .......... .......... .......... 64% 8,24M 0s\n",
      "  3550K .......... .......... .......... .......... .......... 65% 11,2M 0s\n",
      "  3600K .......... .......... .......... .......... .......... 66% 4,71M 0s\n",
      "  3650K .......... .......... .......... .......... .......... 67% 15,4M 0s\n",
      "  3700K .......... .......... .......... .......... .......... 68% 11,8M 0s\n",
      "  3750K .......... .......... .......... .......... .......... 68% 9,93M 0s\n",
      "  3800K .......... .......... .......... .......... .......... 69% 7,24M 0s\n",
      "  3850K .......... .......... .......... .......... .......... 70% 11,9M 0s\n",
      "  3900K .......... .......... .......... .......... .......... 71% 8,63M 0s\n",
      "  3950K .......... .......... .......... .......... .......... 72% 8,60M 0s\n",
      "  4000K .......... .......... .......... .......... .......... 73% 6,56M 0s\n",
      "  4050K .......... .......... .......... .......... .......... 74% 11,2M 0s\n",
      "  4100K .......... .......... .......... .......... .......... 75% 9,59M 0s\n",
      "  4150K .......... .......... .......... .......... .......... 76% 6,28M 0s\n",
      "  4200K .......... .......... .......... .......... .......... 77% 7,62M 0s\n",
      "  4250K .......... .......... .......... .......... .......... 78% 6,88M 0s\n",
      "  4300K .......... .......... .......... .......... .......... 78% 38,7M 0s\n",
      "  4350K .......... .......... .......... .......... .......... 79% 10,5M 0s\n",
      "  4400K .......... .......... .......... .......... .......... 80% 6,46M 0s\n",
      "  4450K .......... .......... .......... .......... .......... 81% 9,67M 0s\n",
      "  4500K .......... .......... .......... .......... .......... 82% 11,0M 0s\n",
      "  4550K .......... .......... .......... .......... .......... 83% 8,02M 0s\n",
      "  4600K .......... .......... .......... .......... .......... 84% 9,75M 0s\n",
      "  4650K .......... .......... .......... .......... .......... 85% 9,54M 0s\n",
      "  4700K .......... .......... .......... .......... .......... 86% 5,26M 0s\n",
      "  4750K .......... .......... .......... .......... .......... 87% 23,7M 0s\n",
      "  4800K .......... .......... .......... .......... .......... 88% 5,36M 0s\n",
      "  4850K .......... .......... .......... .......... .......... 88% 14,7M 0s\n",
      "  4900K .......... .......... .......... .......... .......... 89% 8,58M 0s\n",
      "  4950K .......... .......... .......... .......... .......... 90% 10,0M 0s\n",
      "  5000K .......... .......... .......... .......... .......... 91% 8,39M 0s\n",
      "  5050K .......... .......... .......... .......... .......... 92% 10,6M 0s\n",
      "  5100K .......... .......... .......... .......... .......... 93% 10,3M 0s\n",
      "  5150K .......... .......... .......... .......... .......... 94% 8,72M 0s\n",
      "  5200K .......... .......... .......... .......... .......... 95% 6,39M 0s\n",
      "  5250K .......... .......... .......... .......... .......... 96% 3,44M 0s\n",
      "  5300K .......... .......... .......... .......... .......... 97%  287M 0s\n",
      "  5350K .......... .......... .......... .......... .......... 97% 16,5M 0s\n",
      "  5400K .......... .......... .......... .......... .......... 98% 14,8M 0s\n",
      "  5450K .......... .......... .......... .......... .......... 99% 10,6M 0s\n",
      "  5500K .......... .                                          100% 6,27M=0,7s\n",
      "\n",
      "2023-07-15 16:20:28 (7,72 MB/s) - './data/sarcasm.json.1' saved [5643545/5643545]\n",
      "\n"
     ]
    }
   ],
   "source": [
    "# Download the dataset\n",
    "!wget -P ./data https://storage.googleapis.com/tensorflow-1-public/course3/sarcasm.json"
   ]
  },
  {
   "cell_type": "code",
   "execution_count": 2,
   "metadata": {
    "id": "BTcGA2Po2_nN"
   },
   "outputs": [],
   "source": [
    "import json\n",
    "\n",
    "# Load the JSON file\n",
    "with open(\"./data/sarcasm.json\", 'r') as f:\n",
    "    datastore = json.load(f)\n",
    "\n",
    "# Initialize the lists\n",
    "sentences = []\n",
    "labels = []\n",
    "\n",
    "# Collect sentences and labels into the lists\n",
    "for item in datastore:\n",
    "    sentences.append(item['headline'])\n",
    "    labels.append(item['is_sarcastic'])"
   ]
  },
  {
   "cell_type": "markdown",
   "metadata": {
    "id": "F2zXSds45s2P"
   },
   "source": [
    "## Split the Dataset"
   ]
  },
  {
   "cell_type": "code",
   "execution_count": 3,
   "metadata": {
    "id": "baDwTn9S3ENB"
   },
   "outputs": [],
   "source": [
    "training_size = 20000\n",
    "\n",
    "# Split the sentences\n",
    "training_sentences = sentences[0:training_size]\n",
    "testing_sentences = sentences[training_size:]\n",
    "\n",
    "# Split the labels\n",
    "training_labels = labels[0:training_size]\n",
    "testing_labels = labels[training_size:]"
   ]
  },
  {
   "cell_type": "markdown",
   "metadata": {
    "id": "NdpLY-or5pTP"
   },
   "source": [
    "## Data preprocessing"
   ]
  },
  {
   "cell_type": "code",
   "execution_count": 4,
   "metadata": {
    "id": "RHjZR4oi3LOq"
   },
   "outputs": [],
   "source": [
    "import numpy as np\n",
    "from tensorflow.keras.preprocessing.text import Tokenizer\n",
    "from tensorflow.keras.preprocessing.sequence import pad_sequences\n",
    "\n",
    "vocab_size = 10000\n",
    "max_length = 120\n",
    "trunc_type='post'\n",
    "padding_type='post'\n",
    "oov_tok = \"<OOV>\"\n",
    "\n",
    "# Initialize the Tokenizer class\n",
    "tokenizer = Tokenizer(num_words=vocab_size, oov_token=oov_tok)\n",
    "\n",
    "# Generate the word index dictionary\n",
    "tokenizer.fit_on_texts(training_sentences)\n",
    "word_index = tokenizer.word_index\n",
    "\n",
    "# Generate and pad the training sequences\n",
    "training_sequences = tokenizer.texts_to_sequences(training_sentences)\n",
    "training_padded = pad_sequences(training_sequences, maxlen=max_length, padding=padding_type, truncating=trunc_type)\n",
    "\n",
    "# Generate and pad the testing sequences\n",
    "testing_sequences = tokenizer.texts_to_sequences(testing_sentences)\n",
    "testing_padded = pad_sequences(testing_sequences, maxlen=max_length, padding=padding_type, truncating=trunc_type)\n",
    "\n",
    "# Convert the labels lists into numpy arrays\n",
    "training_labels = np.array(training_labels)\n",
    "testing_labels = np.array(testing_labels)"
   ]
  },
  {
   "cell_type": "markdown",
   "metadata": {
    "id": "HQBjPv_A5m1x"
   },
   "source": [
    "## Build and Compile the Model"
   ]
  },
  {
   "cell_type": "code",
   "execution_count": 5,
   "metadata": {
    "id": "jGwXGIXvFhXW"
   },
   "outputs": [
    {
     "name": "stdout",
     "output_type": "stream",
     "text": [
      "Model: \"sequential\"\n",
      "_________________________________________________________________\n",
      " Layer (type)                Output Shape              Param #   \n",
      "=================================================================\n",
      " embedding (Embedding)       (None, 120, 16)           160000    \n",
      "                                                                 \n",
      " conv1d (Conv1D)             (None, 116, 128)          10368     \n",
      "                                                                 \n",
      " global_max_pooling1d (Glob  (None, 128)               0         \n",
      " alMaxPooling1D)                                                 \n",
      "                                                                 \n",
      " dense (Dense)               (None, 6)                 774       \n",
      "                                                                 \n",
      " dense_1 (Dense)             (None, 1)                 7         \n",
      "                                                                 \n",
      "=================================================================\n",
      "Total params: 171149 (668.55 KB)\n",
      "Trainable params: 171149 (668.55 KB)\n",
      "Non-trainable params: 0 (0.00 Byte)\n",
      "_________________________________________________________________\n"
     ]
    }
   ],
   "source": [
    "import tensorflow as tf\n",
    "\n",
    "# Parameters\n",
    "embedding_dim = 16\n",
    "filters = 128\n",
    "kernel_size = 5\n",
    "dense_dim = 6\n",
    "\n",
    "# Model Definition with Conv1D\n",
    "model_conv = tf.keras.Sequential([\n",
    "    tf.keras.layers.Embedding(vocab_size, embedding_dim, input_length=max_length),\n",
    "    tf.keras.layers.Conv1D(filters, kernel_size, activation='relu'),\n",
    "    tf.keras.layers.GlobalMaxPooling1D(),\n",
    "    tf.keras.layers.Dense(dense_dim, activation='relu'),\n",
    "    tf.keras.layers.Dense(1, activation='sigmoid')\n",
    "])\n",
    "\n",
    "# Set the training parameters\n",
    "model_conv.compile(loss='binary_crossentropy',optimizer='adam',metrics=['accuracy'])\n",
    "\n",
    "# Print the model summary\n",
    "model_conv.summary()"
   ]
  },
  {
   "cell_type": "markdown",
   "metadata": {
    "id": "PcXC5QG45kM7"
   },
   "source": [
    "## Train the Model"
   ]
  },
  {
   "cell_type": "code",
   "execution_count": 6,
   "metadata": {
    "id": "oB6C55FO3z3q"
   },
   "outputs": [
    {
     "name": "stdout",
     "output_type": "stream",
     "text": [
      "Epoch 1/10\n",
      "625/625 [==============================] - 4s 5ms/step - loss: 0.4415 - accuracy: 0.7811 - val_loss: 0.3590 - val_accuracy: 0.8429\n",
      "Epoch 2/10\n",
      "625/625 [==============================] - 3s 4ms/step - loss: 0.2343 - accuracy: 0.9068 - val_loss: 0.3963 - val_accuracy: 0.8357\n",
      "Epoch 3/10\n",
      "625/625 [==============================] - 3s 5ms/step - loss: 0.1288 - accuracy: 0.9528 - val_loss: 0.4435 - val_accuracy: 0.8432\n",
      "Epoch 4/10\n",
      "625/625 [==============================] - 3s 5ms/step - loss: 0.0580 - accuracy: 0.9825 - val_loss: 0.5530 - val_accuracy: 0.8390\n",
      "Epoch 5/10\n",
      "625/625 [==============================] - 3s 5ms/step - loss: 0.0238 - accuracy: 0.9940 - val_loss: 0.6800 - val_accuracy: 0.8396\n",
      "Epoch 6/10\n",
      "625/625 [==============================] - 3s 5ms/step - loss: 0.0094 - accuracy: 0.9978 - val_loss: 0.8097 - val_accuracy: 0.8340\n",
      "Epoch 7/10\n",
      "625/625 [==============================] - 3s 5ms/step - loss: 0.0040 - accuracy: 0.9991 - val_loss: 0.8848 - val_accuracy: 0.8347\n",
      "Epoch 8/10\n",
      "625/625 [==============================] - 3s 5ms/step - loss: 0.0025 - accuracy: 0.9994 - val_loss: 0.9671 - val_accuracy: 0.8363\n",
      "Epoch 9/10\n",
      "625/625 [==============================] - 3s 5ms/step - loss: 0.0018 - accuracy: 0.9995 - val_loss: 1.0335 - val_accuracy: 0.8332\n",
      "Epoch 10/10\n",
      "625/625 [==============================] - 3s 5ms/step - loss: 0.0017 - accuracy: 0.9996 - val_loss: 1.0658 - val_accuracy: 0.8331\n"
     ]
    }
   ],
   "source": [
    "NUM_EPOCHS = 10\n",
    "\n",
    "# Train the model\n",
    "history_conv = model_conv.fit(training_padded, training_labels, epochs=NUM_EPOCHS, validation_data=(testing_padded, testing_labels))"
   ]
  },
  {
   "cell_type": "code",
   "execution_count": 7,
   "metadata": {
    "id": "g9DC6dmLF8DC"
   },
   "outputs": [
    {
     "data": {
      "image/png": "[encoded data removed]",
      "text/plain": [
       "<Figure size 640x480 with 1 Axes>"
      ]
     },
     "metadata": {},
     "output_type": "display_data"
    },
    {
     "data": {
      "image/png": "[encoded data removed]",
      "text/plain": [
       "<Figure size 640x480 with 1 Axes>"
      ]
     },
     "metadata": {},
     "output_type": "display_data"
    }
   ],
   "source": [
    "import matplotlib.pyplot as plt\n",
    "\n",
    "# Plot Utility\n",
    "def plot_graphs(history, string):\n",
    "  plt.plot(history.history[string])\n",
    "  plt.plot(history.history['val_'+string])\n",
    "  plt.xlabel(\"Epochs\")\n",
    "  plt.ylabel(string)\n",
    "  plt.legend([string, 'val_'+string])\n",
    "  plt.show()\n",
    "\n",
    "# Plot the accuracy and loss history\n",
    "plot_graphs(history_conv, 'accuracy')\n",
    "plot_graphs(history_conv, 'loss')"
   ]
  }
 ],
 "metadata": {
  "colab": {
   "collapsed_sections": [],
   "name": "C3_W3_Lab_6_sarcasm_with_1D_convolutional.ipynb",
   "private_outputs": true,
   "provenance": []
  },
  "kernelspec": {
   "display_name": "Python 3",
   "language": "python",
   "name": "python3"
  },
  "language_info": {
   "codemirror_mode": {
    "name": "ipython",
    "version": 3
   },
   "file_extension": ".py",
   "mimetype": "text/x-python",
   "name": "python",
   "nbconvert_exporter": "python",
   "pygments_lexer": "ipython3",
   "version": "3.10.11"
  }
 },
 "nbformat": 4,
 "nbformat_minor": 1
}
