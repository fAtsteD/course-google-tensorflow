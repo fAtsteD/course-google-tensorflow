{
 "cells": [
  {
   "cell_type": "code",
   "execution_count": null,
   "metadata": {},
   "outputs": [],
   "source": [
    "# ======================================================================\n",
    "# There are 5 questions in this exam with increasing difficulty from 1-5.\n",
    "# Please note that the weight of the grade for the question is relative\n",
    "# to its difficulty. So your Category 1 question will score significantly\n",
    "# less than your Category 5 question.\n",
    "#\n",
    "# Don't use lambda layers in your model.\n",
    "# You do not need them to solve the question.\n",
    "# Lambda layers are not supported by the grading infrastructure.\n",
    "#\n",
    "# You must use the Submit and Test button to submit your model\n",
    "# at least once in this category before you finally submit your exam,\n",
    "# otherwise you will score zero for this category.\n",
    "# ======================================================================\n",
    "#\n",
    "# Basic Datasets Question\n",
    "#\n",
    "# Create and train a classifier for the MNIST dataset.\n",
    "# Note that the test will expect it to classify 10 classes and that the\n",
    "# input shape should be the native size of the MNIST dataset which is\n",
    "# 28x28 monochrome. Do not resize the data. Your input layer should accept\n",
    "# (28,28) as the input shape only. If you amend this, the tests will fail.\n",
    "#\n",
    "\n",
    "import tensorflow as tf\n",
    "import os\n",
    "\n",
    "\n",
    "def solution_model():\n",
    "    mnist = tf.keras.datasets.mnist\n",
    "\n",
    "    # YOUR CODE HERE\n",
    "    (train_images, train_labels), _ = mnist.load_data()\n",
    "    train_images = train_images / 255.0\n",
    "\n",
    "    model = tf.keras.models.Sequential(\n",
    "        [\n",
    "            tf.keras.layers.Flatten(input_shape=(28, 28)),\n",
    "            tf.keras.layers.Dense(512, activation=tf.nn.relu),\n",
    "            tf.keras.layers.Dense(10, activation=tf.nn.softmax),\n",
    "        ]\n",
    "    )\n",
    "\n",
    "    model.compile(optimizer=\"adam\", loss=\"sparse_categorical_crossentropy\", metrics=[\"accuracy\"])\n",
    "\n",
    "    class TrainingCallback(tf.keras.callbacks.Callback):\n",
    "        def on_epoch_end(self, epoch, logs={}):\n",
    "            if logs.get(\"accuracy\") is not None and logs.get(\"accuracy\") > 0.995:\n",
    "                print(\"\\nReached 99.5% accuracy so cancelling training!\")\n",
    "                self.model.stop_training = True\n",
    "\n",
    "    model.fit(train_images, train_labels, epochs=10, callbacks=[TrainingCallback()])\n",
    "\n",
    "    return model\n"
   ]
  },
  {
   "cell_type": "code",
   "execution_count": null,
   "metadata": {},
   "outputs": [],
   "source": [
    "# Note that you'll need to save your model as a .h5 like this.\n",
    "# When you press the Submit and Test button, your saved .h5 model will\n",
    "# be sent to the testing infrastructure for scoring\n",
    "# and the score will be returned to you.\n",
    "model = solution_model()\n",
    "model.save(\"mymodel.h5\")"
   ]
  }
 ],
 "metadata": {
  "language_info": {
   "name": "python"
  }
 },
 "nbformat": 4,
 "nbformat_minor": 2
}
